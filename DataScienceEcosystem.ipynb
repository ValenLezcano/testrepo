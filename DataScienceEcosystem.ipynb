{
 "cells": [
  {
   "cell_type": "markdown",
   "id": "6df2b2ac-486a-4e04-8239-1c141db0673c",
   "metadata": {},
   "source": [
    "# Data Science Tools and Ecosystem"
   ]
  },
  {
   "cell_type": "markdown",
   "id": "7a0084d9-7ebf-44fe-b1ce-cca3f2808ef7",
   "metadata": {},
   "source": [
    "#### In this notebook, Data Science Tools and Ecosystem are summarized."
   ]
  },
  {
   "cell_type": "markdown",
   "id": "9d50275c-b24d-416b-ada1-8a85f2965b2f",
   "metadata": {},
   "source": [
    "#### Objetives:\n",
    "- List popular languages for Data Science\n",
    "- Commonly used libraries by Data Scientists\n",
    "- Evaluation of arithmetic expressions"
   ]
  },
  {
   "cell_type": "markdown",
   "id": "bf5ca123-89b2-4549-b8bd-729e5a8280ad",
   "metadata": {},
   "source": [
    "##### Some of the popular languages that Data Scientists use are:\n",
    "1. Python\n",
    "2. R\n",
    "3. SQL"
   ]
  },
  {
   "cell_type": "markdown",
   "id": "6c6a1da6-7bf8-4fbb-a956-8cb9c8056f5e",
   "metadata": {},
   "source": [
    "##### Some of the commonly used libraries used by Data Scientists include:\n",
    "1. Pandas in Python\n",
    "2. NumPy in Python\n",
    "3. Matplotlib in Python\n",
    "4. Scikit-learn in Python\n",
    "5. ggplot2 in R\n",
    "6. caret in R"
   ]
  },
  {
   "cell_type": "markdown",
   "id": "38303fa4-b121-439d-beda-9d095fe1b923",
   "metadata": {},
   "source": [
    "|Data Science Tools|\n",
    "|------------------|\n",
    "|Jupyter|\n",
    "|JupyterLab|\n",
    "|RStudio|"
   ]
  },
  {
   "cell_type": "markdown",
   "id": "76659ed2-9477-4510-a461-8755c61fe292",
   "metadata": {},
   "source": [
    "### Below are a few examples of evaluating arithmetic expressions in Python."
   ]
  },
  {
   "cell_type": "markdown",
   "id": "5adb18bb-6cea-4fa8-8dfc-ac47c5741400",
   "metadata": {},
   "source": [
    "##### This a simple arithmetic expression to mutiply then add integers: "
   ]
  },
  {
   "cell_type": "code",
   "execution_count": 3,
   "id": "8916d2ba-2ec5-40ec-b25b-1dadf8605220",
   "metadata": {},
   "outputs": [
    {
     "data": {
      "text/plain": [
       "17"
      ]
     },
     "execution_count": 3,
     "metadata": {},
     "output_type": "execute_result"
    }
   ],
   "source": [
    "(3*4)+5"
   ]
  },
  {
   "cell_type": "markdown",
   "id": "06989a13-46e0-4179-8092-e577a277a4c2",
   "metadata": {},
   "source": [
    "##### This will convert 200 minutes to hours by diving by 60: "
   ]
  },
  {
   "cell_type": "code",
   "execution_count": 4,
   "id": "8e221c31-db70-4914-93fa-0f4eceacb89f",
   "metadata": {},
   "outputs": [
    {
     "data": {
      "text/plain": [
       "3.3333333333333335"
      ]
     },
     "execution_count": 4,
     "metadata": {},
     "output_type": "execute_result"
    }
   ],
   "source": [
    "200/60"
   ]
  },
  {
   "cell_type": "markdown",
   "id": "07237f0e-bfb6-437f-99d9-7dcc89af8546",
   "metadata": {},
   "source": [
    "## Author"
   ]
  },
  {
   "cell_type": "markdown",
   "id": "d00e5a00-956f-4ec1-9e06-3eb3410f9cd4",
   "metadata": {},
   "source": [
    "#### Lezcano Laila Valentina"
   ]
  },
  {
   "cell_type": "code",
   "execution_count": null,
   "id": "61e4e69c-13d9-4dbb-ae6d-b426f3cdafdf",
   "metadata": {},
   "outputs": [],
   "source": []
  }
 ],
 "metadata": {
  "kernelspec": {
   "display_name": "Python 3 (ipykernel)",
   "language": "python",
   "name": "python3"
  },
  "language_info": {
   "codemirror_mode": {
    "name": "ipython",
    "version": 3
   },
   "file_extension": ".py",
   "mimetype": "text/x-python",
   "name": "python",
   "nbconvert_exporter": "python",
   "pygments_lexer": "ipython3",
   "version": "3.12.7"
  }
 },
 "nbformat": 4,
 "nbformat_minor": 5
}
